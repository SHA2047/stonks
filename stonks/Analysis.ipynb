{
 "cells": [
  {
   "cell_type": "code",
   "outputs": [],
   "source": [
    "import pandas as pd\n",
    "from modules import load_metadata\n",
    "from datetime import datetime"
   ],
   "metadata": {
    "collapsed": false,
    "ExecuteTime": {
     "end_time": "2024-06-17T08:19:40.427364Z",
     "start_time": "2024-06-17T08:19:40.420999Z"
    }
   },
   "id": "dd4746f5e2d86228",
   "execution_count": 4
  },
  {
   "cell_type": "markdown",
   "source": [
    "# Read Data"
   ],
   "metadata": {
    "collapsed": false
   },
   "id": "99c91fc5b11bb219"
  },
  {
   "cell_type": "code",
   "outputs": [],
   "source": [
    "tickers, dates_of_listing = load_metadata(\"/Users/akash/git/stonks/configs/EQUITY_L.csv\")\n",
    "df = pd.read_parquet(\"/Users/akash/git/stonks/datasets/full_data.parquet\")\n",
    "df = df[[\"ticker\", \"Date\", \"Open\", \"High\", \"Low\", \"Close\", \"Volume\"]]\n",
    "# df[\"key\"] = df[\"ticker\"] + \"_\" + df[\"Date\"].astype(str)\n",
    "# listing_keys = [key + \"_\" + str(value) for key, value in dates_of_listing.items()]"
   ],
   "metadata": {
    "collapsed": false,
    "ExecuteTime": {
     "end_time": "2024-06-17T15:34:35.894807Z",
     "start_time": "2024-06-17T15:34:35.704696Z"
    }
   },
   "id": "b799e01399a9bef0",
   "execution_count": 35
  },
  {
   "cell_type": "code",
   "outputs": [],
   "source": [
    "today = datetime.today()"
   ],
   "metadata": {
    "collapsed": false,
    "ExecuteTime": {
     "end_time": "2024-06-17T15:34:38.135060Z",
     "start_time": "2024-06-17T15:34:38.131619Z"
    }
   },
   "id": "85f94a25c835974c",
   "execution_count": 36
  },
  {
   "cell_type": "code",
   "outputs": [
    {
     "data": {
      "text/plain": "                                Date                          \n                                 min                       max\nticker                                                        \n20MICRONS  2008-10-06 00:00:00+05:30 2024-06-14 00:00:00+05:30\n21STCENMGM 2018-01-11 00:00:00+05:30 2024-06-14 00:00:00+05:30\n360ONE     2019-09-19 00:00:00+05:30 2024-06-14 00:00:00+05:30\n3IINFOLTD  2021-10-22 00:00:00+05:30 2024-06-14 00:00:00+05:30\n3MINDIA    2004-08-13 00:00:00+05:30 2024-06-14 00:00:00+05:30\n...                              ...                       ...\nZOTA       2019-08-19 00:00:00+05:30 2024-06-14 00:00:00+05:30\nZUARI      2012-11-27 00:00:00+05:30 2024-06-14 00:00:00+05:30\nZUARIIND   2002-07-01 00:00:00+05:30 2024-06-14 00:00:00+05:30\nZYDUSLIFE  2000-04-27 00:00:00+05:30 2024-06-14 00:00:00+05:30\nZYDUSWELL  2009-11-13 00:00:00+05:30 2024-06-14 00:00:00+05:30\n\n[1993 rows x 2 columns]",
      "text/html": "<div>\n<style scoped>\n    .dataframe tbody tr th:only-of-type {\n        vertical-align: middle;\n    }\n\n    .dataframe tbody tr th {\n        vertical-align: top;\n    }\n\n    .dataframe thead tr th {\n        text-align: left;\n    }\n\n    .dataframe thead tr:last-of-type th {\n        text-align: right;\n    }\n</style>\n<table border=\"1\" class=\"dataframe\">\n  <thead>\n    <tr>\n      <th></th>\n      <th colspan=\"2\" halign=\"left\">Date</th>\n    </tr>\n    <tr>\n      <th></th>\n      <th>min</th>\n      <th>max</th>\n    </tr>\n    <tr>\n      <th>ticker</th>\n      <th></th>\n      <th></th>\n    </tr>\n  </thead>\n  <tbody>\n    <tr>\n      <th>20MICRONS</th>\n      <td>2008-10-06 00:00:00+05:30</td>\n      <td>2024-06-14 00:00:00+05:30</td>\n    </tr>\n    <tr>\n      <th>21STCENMGM</th>\n      <td>2018-01-11 00:00:00+05:30</td>\n      <td>2024-06-14 00:00:00+05:30</td>\n    </tr>\n    <tr>\n      <th>360ONE</th>\n      <td>2019-09-19 00:00:00+05:30</td>\n      <td>2024-06-14 00:00:00+05:30</td>\n    </tr>\n    <tr>\n      <th>3IINFOLTD</th>\n      <td>2021-10-22 00:00:00+05:30</td>\n      <td>2024-06-14 00:00:00+05:30</td>\n    </tr>\n    <tr>\n      <th>3MINDIA</th>\n      <td>2004-08-13 00:00:00+05:30</td>\n      <td>2024-06-14 00:00:00+05:30</td>\n    </tr>\n    <tr>\n      <th>...</th>\n      <td>...</td>\n      <td>...</td>\n    </tr>\n    <tr>\n      <th>ZOTA</th>\n      <td>2019-08-19 00:00:00+05:30</td>\n      <td>2024-06-14 00:00:00+05:30</td>\n    </tr>\n    <tr>\n      <th>ZUARI</th>\n      <td>2012-11-27 00:00:00+05:30</td>\n      <td>2024-06-14 00:00:00+05:30</td>\n    </tr>\n    <tr>\n      <th>ZUARIIND</th>\n      <td>2002-07-01 00:00:00+05:30</td>\n      <td>2024-06-14 00:00:00+05:30</td>\n    </tr>\n    <tr>\n      <th>ZYDUSLIFE</th>\n      <td>2000-04-27 00:00:00+05:30</td>\n      <td>2024-06-14 00:00:00+05:30</td>\n    </tr>\n    <tr>\n      <th>ZYDUSWELL</th>\n      <td>2009-11-13 00:00:00+05:30</td>\n      <td>2024-06-14 00:00:00+05:30</td>\n    </tr>\n  </tbody>\n</table>\n<p>1993 rows × 2 columns</p>\n</div>"
     },
     "execution_count": 37,
     "metadata": {},
     "output_type": "execute_result"
    }
   ],
   "source": [
    "# Assuming the earliest date for a stock is the listing date\n",
    "\n",
    "df.groupby([\"ticker\"])[[\"Date\"]].agg([\"min\", \"max\"])"
   ],
   "metadata": {
    "collapsed": false,
    "ExecuteTime": {
     "end_time": "2024-06-17T15:34:39.758022Z",
     "start_time": "2024-06-17T15:34:39.615955Z"
    }
   },
   "id": "b332fa9f01c2a8c4",
   "execution_count": 37
  },
  {
   "cell_type": "code",
   "outputs": [
    {
     "data": {
      "text/plain": "      ticker                      Date       Open       High        Low  \\\n0  20MICRONS 2008-10-06 00:00:00+05:30  35.138197  35.138197  13.879588   \n1  20MICRONS 2008-10-07 00:00:00+05:30  14.055278  16.690642  12.232484   \n2  20MICRONS 2008-10-08 00:00:00+05:30  12.298369  12.825443  11.024610   \n3  20MICRONS 2008-10-10 00:00:00+05:30  10.936763  10.936763   9.509274   \n4  20MICRONS 2008-10-13 00:00:00+05:30  10.673226  11.683450  10.233999   \n\n       Close      Volume  \n0  14.736081  23501600.0  \n1  13.198784   9113400.0  \n2  11.639528   2464384.0  \n3  10.190077   1207928.0  \n4  10.826956    898692.0  ",
      "text/html": "<div>\n<style scoped>\n    .dataframe tbody tr th:only-of-type {\n        vertical-align: middle;\n    }\n\n    .dataframe tbody tr th {\n        vertical-align: top;\n    }\n\n    .dataframe thead th {\n        text-align: right;\n    }\n</style>\n<table border=\"1\" class=\"dataframe\">\n  <thead>\n    <tr style=\"text-align: right;\">\n      <th></th>\n      <th>ticker</th>\n      <th>Date</th>\n      <th>Open</th>\n      <th>High</th>\n      <th>Low</th>\n      <th>Close</th>\n      <th>Volume</th>\n    </tr>\n  </thead>\n  <tbody>\n    <tr>\n      <th>0</th>\n      <td>20MICRONS</td>\n      <td>2008-10-06 00:00:00+05:30</td>\n      <td>35.138197</td>\n      <td>35.138197</td>\n      <td>13.879588</td>\n      <td>14.736081</td>\n      <td>23501600.0</td>\n    </tr>\n    <tr>\n      <th>1</th>\n      <td>20MICRONS</td>\n      <td>2008-10-07 00:00:00+05:30</td>\n      <td>14.055278</td>\n      <td>16.690642</td>\n      <td>12.232484</td>\n      <td>13.198784</td>\n      <td>9113400.0</td>\n    </tr>\n    <tr>\n      <th>2</th>\n      <td>20MICRONS</td>\n      <td>2008-10-08 00:00:00+05:30</td>\n      <td>12.298369</td>\n      <td>12.825443</td>\n      <td>11.024610</td>\n      <td>11.639528</td>\n      <td>2464384.0</td>\n    </tr>\n    <tr>\n      <th>3</th>\n      <td>20MICRONS</td>\n      <td>2008-10-10 00:00:00+05:30</td>\n      <td>10.936763</td>\n      <td>10.936763</td>\n      <td>9.509274</td>\n      <td>10.190077</td>\n      <td>1207928.0</td>\n    </tr>\n    <tr>\n      <th>4</th>\n      <td>20MICRONS</td>\n      <td>2008-10-13 00:00:00+05:30</td>\n      <td>10.673226</td>\n      <td>11.683450</td>\n      <td>10.233999</td>\n      <td>10.826956</td>\n      <td>898692.0</td>\n    </tr>\n  </tbody>\n</table>\n</div>"
     },
     "execution_count": 38,
     "metadata": {},
     "output_type": "execute_result"
    }
   ],
   "source": [
    "df.head()"
   ],
   "metadata": {
    "collapsed": false,
    "ExecuteTime": {
     "end_time": "2024-06-17T15:34:43.969738Z",
     "start_time": "2024-06-17T15:34:43.960807Z"
    }
   },
   "id": "e1fde76fde2662c0",
   "execution_count": 38
  },
  {
   "cell_type": "code",
   "outputs": [
    {
     "name": "stdout",
     "output_type": "stream",
     "text": [
      "<class 'pandas.core.frame.DataFrame'>\n",
      "RangeIndex: 6012841 entries, 0 to 6012840\n",
      "Data columns (total 7 columns):\n",
      " #   Column  Dtype                       \n",
      "---  ------  -----                       \n",
      " 0   ticker  object                      \n",
      " 1   Date    datetime64[ns, Asia/Kolkata]\n",
      " 2   Open    float64                     \n",
      " 3   High    float64                     \n",
      " 4   Low     float64                     \n",
      " 5   Close   float64                     \n",
      " 6   Volume  float64                     \n",
      "dtypes: datetime64[ns, Asia/Kolkata](1), float64(5), object(1)\n",
      "memory usage: 321.1+ MB\n"
     ]
    }
   ],
   "source": [
    "df.info()"
   ],
   "metadata": {
    "collapsed": false,
    "ExecuteTime": {
     "end_time": "2024-06-17T15:38:47.522065Z",
     "start_time": "2024-06-17T15:38:47.519286Z"
    }
   },
   "id": "e0dabdf53879bf65",
   "execution_count": 39
  },
  {
   "cell_type": "code",
   "outputs": [],
   "source": [],
   "metadata": {
    "collapsed": false
   },
   "id": "a27b11ee29c01f5f"
  },
  {
   "cell_type": "code",
   "outputs": [],
   "source": [],
   "metadata": {
    "collapsed": false
   },
   "id": "b5496da9e9bb1a7"
  }
 ],
 "metadata": {
  "kernelspec": {
   "display_name": "Python 3",
   "language": "python",
   "name": "python3"
  },
  "language_info": {
   "codemirror_mode": {
    "name": "ipython",
    "version": 2
   },
   "file_extension": ".py",
   "mimetype": "text/x-python",
   "name": "python",
   "nbconvert_exporter": "python",
   "pygments_lexer": "ipython2",
   "version": "2.7.6"
  }
 },
 "nbformat": 4,
 "nbformat_minor": 5
}
